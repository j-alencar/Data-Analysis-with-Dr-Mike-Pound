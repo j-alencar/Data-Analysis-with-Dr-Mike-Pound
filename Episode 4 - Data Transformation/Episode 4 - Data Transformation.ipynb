{
 "cells": [
  {
   "cell_type": "markdown",
   "metadata": {},
   "source": [
    "Machine learning doesn't like numbers that aren't nice and normalized. Also, if it's not a number (e.g nominal or ordinal string values), it generally should be."
   ]
  },
  {
   "cell_type": "markdown",
   "metadata": {},
   "source": [
    "# Extraction, first look"
   ]
  },
  {
   "cell_type": "code",
   "execution_count": 2,
   "metadata": {
    "vscode": {
     "languageId": "r"
    }
   },
   "outputs": [
    {
     "data": {
      "text/html": [
       "<table class=\"dataframe\">\n",
       "<caption>A data.frame: 6 × 15</caption>\n",
       "<thead>\n",
       "\t<tr><th></th><th scope=col>age</th><th scope=col>workclass</th><th scope=col>fnlwgt</th><th scope=col>education</th><th scope=col>education.num</th><th scope=col>marital.status</th><th scope=col>occupation</th><th scope=col>relationship</th><th scope=col>race</th><th scope=col>sex</th><th scope=col>capital.gain</th><th scope=col>capital.loss</th><th scope=col>hours.per.week</th><th scope=col>native.country</th><th scope=col>makes</th></tr>\n",
       "\t<tr><th></th><th scope=col>&lt;int&gt;</th><th scope=col>&lt;chr&gt;</th><th scope=col>&lt;int&gt;</th><th scope=col>&lt;chr&gt;</th><th scope=col>&lt;int&gt;</th><th scope=col>&lt;chr&gt;</th><th scope=col>&lt;chr&gt;</th><th scope=col>&lt;chr&gt;</th><th scope=col>&lt;chr&gt;</th><th scope=col>&lt;chr&gt;</th><th scope=col>&lt;int&gt;</th><th scope=col>&lt;int&gt;</th><th scope=col>&lt;int&gt;</th><th scope=col>&lt;chr&gt;</th><th scope=col>&lt;chr&gt;</th></tr>\n",
       "</thead>\n",
       "<tbody>\n",
       "\t<tr><th scope=row>1</th><td>39</td><td><span style=white-space:pre-wrap> State-gov       </span></td><td> 77516</td><td> Bachelors</td><td>13</td><td><span style=white-space:pre-wrap> Never-married     </span></td><td><span style=white-space:pre-wrap> Adm-clerical     </span></td><td> Not-in-family</td><td> White</td><td><span style=white-space:pre-wrap> Male  </span></td><td>2174</td><td>0</td><td>40</td><td>United-States</td><td> &lt;=50K</td></tr>\n",
       "\t<tr><th scope=row>2</th><td>50</td><td> Self-emp-not-inc</td><td> 83311</td><td> Bachelors</td><td>13</td><td> Married-civ-spouse</td><td><span style=white-space:pre-wrap> Exec-managerial  </span></td><td><span style=white-space:pre-wrap> Husband      </span></td><td> White</td><td><span style=white-space:pre-wrap> Male  </span></td><td><span style=white-space:pre-wrap>   0</span></td><td>0</td><td>13</td><td>United-States</td><td> &lt;=50K</td></tr>\n",
       "\t<tr><th scope=row>3</th><td>38</td><td><span style=white-space:pre-wrap> Private         </span></td><td>215646</td><td><span style=white-space:pre-wrap> HS-grad  </span></td><td> 9</td><td><span style=white-space:pre-wrap> Divorced          </span></td><td> Handlers-cleaners</td><td> Not-in-family</td><td> White</td><td><span style=white-space:pre-wrap> Male  </span></td><td><span style=white-space:pre-wrap>   0</span></td><td>0</td><td>40</td><td>United-States</td><td> &lt;=50K</td></tr>\n",
       "\t<tr><th scope=row>4</th><td>53</td><td><span style=white-space:pre-wrap> Private         </span></td><td>234721</td><td><span style=white-space:pre-wrap> 11th     </span></td><td> 7</td><td> Married-civ-spouse</td><td> Handlers-cleaners</td><td><span style=white-space:pre-wrap> Husband      </span></td><td> Black</td><td><span style=white-space:pre-wrap> Male  </span></td><td><span style=white-space:pre-wrap>   0</span></td><td>0</td><td>40</td><td>United-States</td><td> &lt;=50K</td></tr>\n",
       "\t<tr><th scope=row>5</th><td>37</td><td><span style=white-space:pre-wrap> Private         </span></td><td>284582</td><td><span style=white-space:pre-wrap> Masters  </span></td><td>14</td><td> Married-civ-spouse</td><td><span style=white-space:pre-wrap> Exec-managerial  </span></td><td><span style=white-space:pre-wrap> Wife         </span></td><td> White</td><td> Female</td><td><span style=white-space:pre-wrap>   0</span></td><td>0</td><td>40</td><td>United-States</td><td> &lt;=50K</td></tr>\n",
       "\t<tr><th scope=row>6</th><td>52</td><td> Self-emp-not-inc</td><td>209642</td><td><span style=white-space:pre-wrap> HS-grad  </span></td><td> 9</td><td> Married-civ-spouse</td><td><span style=white-space:pre-wrap> Exec-managerial  </span></td><td><span style=white-space:pre-wrap> Husband      </span></td><td> White</td><td><span style=white-space:pre-wrap> Male  </span></td><td><span style=white-space:pre-wrap>   0</span></td><td>0</td><td>45</td><td>United-States</td><td> &gt;50K </td></tr>\n",
       "</tbody>\n",
       "</table>\n"
      ],
      "text/latex": [
       "A data.frame: 6 × 15\n",
       "\\begin{tabular}{r|lllllllllllllll}\n",
       "  & age & workclass & fnlwgt & education & education.num & marital.status & occupation & relationship & race & sex & capital.gain & capital.loss & hours.per.week & native.country & makes\\\\\n",
       "  & <int> & <chr> & <int> & <chr> & <int> & <chr> & <chr> & <chr> & <chr> & <chr> & <int> & <int> & <int> & <chr> & <chr>\\\\\n",
       "\\hline\n",
       "\t1 & 39 &  State-gov        &  77516 &  Bachelors & 13 &  Never-married      &  Adm-clerical      &  Not-in-family &  White &  Male   & 2174 & 0 & 40 & United-States &  <=50K\\\\\n",
       "\t2 & 50 &  Self-emp-not-inc &  83311 &  Bachelors & 13 &  Married-civ-spouse &  Exec-managerial   &  Husband       &  White &  Male   &    0 & 0 & 13 & United-States &  <=50K\\\\\n",
       "\t3 & 38 &  Private          & 215646 &  HS-grad   &  9 &  Divorced           &  Handlers-cleaners &  Not-in-family &  White &  Male   &    0 & 0 & 40 & United-States &  <=50K\\\\\n",
       "\t4 & 53 &  Private          & 234721 &  11th      &  7 &  Married-civ-spouse &  Handlers-cleaners &  Husband       &  Black &  Male   &    0 & 0 & 40 & United-States &  <=50K\\\\\n",
       "\t5 & 37 &  Private          & 284582 &  Masters   & 14 &  Married-civ-spouse &  Exec-managerial   &  Wife          &  White &  Female &    0 & 0 & 40 & United-States &  <=50K\\\\\n",
       "\t6 & 52 &  Self-emp-not-inc & 209642 &  HS-grad   &  9 &  Married-civ-spouse &  Exec-managerial   &  Husband       &  White &  Male   &    0 & 0 & 45 & United-States &  >50K \\\\\n",
       "\\end{tabular}\n"
      ],
      "text/markdown": [
       "\n",
       "A data.frame: 6 × 15\n",
       "\n",
       "| <!--/--> | age &lt;int&gt; | workclass &lt;chr&gt; | fnlwgt &lt;int&gt; | education &lt;chr&gt; | education.num &lt;int&gt; | marital.status &lt;chr&gt; | occupation &lt;chr&gt; | relationship &lt;chr&gt; | race &lt;chr&gt; | sex &lt;chr&gt; | capital.gain &lt;int&gt; | capital.loss &lt;int&gt; | hours.per.week &lt;int&gt; | native.country &lt;chr&gt; | makes &lt;chr&gt; |\n",
       "|---|---|---|---|---|---|---|---|---|---|---|---|---|---|---|---|\n",
       "| 1 | 39 |  State-gov        |  77516 |  Bachelors | 13 |  Never-married      |  Adm-clerical      |  Not-in-family |  White |  Male   | 2174 | 0 | 40 | United-States |  &lt;=50K |\n",
       "| 2 | 50 |  Self-emp-not-inc |  83311 |  Bachelors | 13 |  Married-civ-spouse |  Exec-managerial   |  Husband       |  White |  Male   |    0 | 0 | 13 | United-States |  &lt;=50K |\n",
       "| 3 | 38 |  Private          | 215646 |  HS-grad   |  9 |  Divorced           |  Handlers-cleaners |  Not-in-family |  White |  Male   |    0 | 0 | 40 | United-States |  &lt;=50K |\n",
       "| 4 | 53 |  Private          | 234721 |  11th      |  7 |  Married-civ-spouse |  Handlers-cleaners |  Husband       |  Black |  Male   |    0 | 0 | 40 | United-States |  &lt;=50K |\n",
       "| 5 | 37 |  Private          | 284582 |  Masters   | 14 |  Married-civ-spouse |  Exec-managerial   |  Wife          |  White |  Female |    0 | 0 | 40 | United-States |  &lt;=50K |\n",
       "| 6 | 52 |  Self-emp-not-inc | 209642 |  HS-grad   |  9 |  Married-civ-spouse |  Exec-managerial   |  Husband       |  White |  Male   |    0 | 0 | 45 | United-States |  &gt;50K  |\n",
       "\n"
      ],
      "text/plain": [
       "  age workclass         fnlwgt education  education.num marital.status     \n",
       "1 39   State-gov         77516  Bachelors 13             Never-married     \n",
       "2 50   Self-emp-not-inc  83311  Bachelors 13             Married-civ-spouse\n",
       "3 38   Private          215646  HS-grad    9             Divorced          \n",
       "4 53   Private          234721  11th       7             Married-civ-spouse\n",
       "5 37   Private          284582  Masters   14             Married-civ-spouse\n",
       "6 52   Self-emp-not-inc 209642  HS-grad    9             Married-civ-spouse\n",
       "  occupation         relationship   race   sex     capital.gain capital.loss\n",
       "1  Adm-clerical       Not-in-family  White  Male   2174         0           \n",
       "2  Exec-managerial    Husband        White  Male      0         0           \n",
       "3  Handlers-cleaners  Not-in-family  White  Male      0         0           \n",
       "4  Handlers-cleaners  Husband        Black  Male      0         0           \n",
       "5  Exec-managerial    Wife           White  Female    0         0           \n",
       "6  Exec-managerial    Husband        White  Male      0         0           \n",
       "  hours.per.week native.country makes \n",
       "1 40             United-States   <=50K\n",
       "2 13             United-States   <=50K\n",
       "3 40             United-States   <=50K\n",
       "4 40             United-States   <=50K\n",
       "5 40             United-States   <=50K\n",
       "6 45             United-States   >50K "
      ]
     },
     "metadata": {},
     "output_type": "display_data"
    }
   ],
   "source": [
    "library(ggplot2)\n",
    "library(dplyr)\n",
    "\n",
    "# Let's look at the dataset roughly\n",
    "census <- read.csv(\"census_us.csv\")\n",
    "head(census)"
   ]
  },
  {
   "cell_type": "code",
   "execution_count": 6,
   "metadata": {
    "vscode": {
     "languageId": "r"
    }
   },
   "outputs": [
    {
     "data": {
      "text/html": [
       "<style>\n",
       ".list-inline {list-style: none; margin:0; padding: 0}\n",
       ".list-inline>li {display: inline-block}\n",
       ".list-inline>li:not(:last-child)::after {content: \"\\00b7\"; padding: 0 .5ex}\n",
       "</style>\n",
       "<ol class=list-inline><li>'age'</li><li>'fnlwgt'</li><li>'education.num'</li><li>'capital.gain'</li><li>'capital.loss'</li><li>'hours.per.week'</li></ol>\n"
      ],
      "text/latex": [
       "\\begin{enumerate*}\n",
       "\\item 'age'\n",
       "\\item 'fnlwgt'\n",
       "\\item 'education.num'\n",
       "\\item 'capital.gain'\n",
       "\\item 'capital.loss'\n",
       "\\item 'hours.per.week'\n",
       "\\end{enumerate*}\n"
      ],
      "text/markdown": [
       "1. 'age'\n",
       "2. 'fnlwgt'\n",
       "3. 'education.num'\n",
       "4. 'capital.gain'\n",
       "5. 'capital.loss'\n",
       "6. 'hours.per.week'\n",
       "\n",
       "\n"
      ],
      "text/plain": [
       "[1] \"age\"            \"fnlwgt\"         \"education.num\"  \"capital.gain\"  \n",
       "[5] \"capital.loss\"   \"hours.per.week\""
      ]
     },
     "metadata": {},
     "output_type": "display_data"
    },
    {
     "data": {
      "text/html": [
       "<table class=\"dataframe\">\n",
       "<caption>A matrix: 2 × 6 of type int</caption>\n",
       "<thead>\n",
       "\t<tr><th scope=col>age</th><th scope=col>fnlwgt</th><th scope=col>education.num</th><th scope=col>capital.gain</th><th scope=col>capital.loss</th><th scope=col>hours.per.week</th></tr>\n",
       "</thead>\n",
       "<tbody>\n",
       "\t<tr><td>17</td><td>  12285</td><td> 1</td><td>    0</td><td>   0</td><td> 1</td></tr>\n",
       "\t<tr><td>90</td><td>1484705</td><td>16</td><td>99999</td><td>4356</td><td>99</td></tr>\n",
       "</tbody>\n",
       "</table>\n"
      ],
      "text/latex": [
       "A matrix: 2 × 6 of type int\n",
       "\\begin{tabular}{llllll}\n",
       " age & fnlwgt & education.num & capital.gain & capital.loss & hours.per.week\\\\\n",
       "\\hline\n",
       "\t 17 &   12285 &  1 &     0 &    0 &  1\\\\\n",
       "\t 90 & 1484705 & 16 & 99999 & 4356 & 99\\\\\n",
       "\\end{tabular}\n"
      ],
      "text/markdown": [
       "\n",
       "A matrix: 2 × 6 of type int\n",
       "\n",
       "| age | fnlwgt | education.num | capital.gain | capital.loss | hours.per.week |\n",
       "|---|---|---|---|---|---|\n",
       "| 17 |   12285 |  1 |     0 |    0 |  1 |\n",
       "| 90 | 1484705 | 16 | 99999 | 4356 | 99 |\n",
       "\n"
      ],
      "text/plain": [
       "     age fnlwgt  education.num capital.gain capital.loss hours.per.week\n",
       "[1,] 17    12285  1                0           0          1            \n",
       "[2,] 90  1484705 16            99999        4356         99            "
      ]
     },
     "metadata": {},
     "output_type": "display_data"
    },
    {
     "data": {
      "text/html": [
       "<style>\n",
       ".dl-inline {width: auto; margin:0; padding: 0}\n",
       ".dl-inline>dt, .dl-inline>dd {float: none; width: auto; display: inline-block}\n",
       ".dl-inline>dt::after {content: \":\\0020\"; padding-right: .5ex}\n",
       ".dl-inline>dt:not(:first-of-type) {padding-left: .5ex}\n",
       "</style><dl class=dl-inline><dt>age</dt><dd>13.7224082129003</dd><dt>fnlwgt</dt><dd>104877.981749343</dd><dt>education.num</dt><dd>2.39496615415274</dd><dt>capital.gain</dt><dd>7381.89852839609</dd><dt>capital.loss</dt><dd>405.68170853712</dd><dt>hours.per.week</dt><dd>12.4172034234451</dd></dl>\n"
      ],
      "text/latex": [
       "\\begin{description*}\n",
       "\\item[age] 13.7224082129003\n",
       "\\item[fnlwgt] 104877.981749343\n",
       "\\item[education.num] 2.39496615415274\n",
       "\\item[capital.gain] 7381.89852839609\n",
       "\\item[capital.loss] 405.68170853712\n",
       "\\item[hours.per.week] 12.4172034234451\n",
       "\\end{description*}\n"
      ],
      "text/markdown": [
       "age\n",
       ":   13.7224082129003fnlwgt\n",
       ":   104877.981749343education.num\n",
       ":   2.39496615415274capital.gain\n",
       ":   7381.89852839609capital.loss\n",
       ":   405.68170853712hours.per.week\n",
       ":   12.4172034234451\n",
       "\n"
      ],
      "text/plain": [
       "           age         fnlwgt  education.num   capital.gain   capital.loss \n",
       "  1.372241e+01   1.048780e+05   2.394966e+00   7.381899e+03   4.056817e+02 \n",
       "hours.per.week \n",
       "  1.241720e+01 "
      ]
     },
     "metadata": {},
     "output_type": "display_data"
    }
   ],
   "source": [
    "# 1. Which attributes are numeric?\n",
    "nums <- sapply(census, is.numeric)\n",
    "num_atts <- names(nums[nums])\n",
    "\n",
    "num_atts\n",
    "\n",
    "# 2. Let's see the range of numeric attributes\n",
    "apply(census[, num_atts], 2, range)\n",
    "\n",
    "# 3. Let's see the standard deviation of numeric attributes\n",
    "apply(census[, num_atts], 2, sd)"
   ]
  },
  {
   "cell_type": "code",
   "execution_count": 7,
   "metadata": {
    "vscode": {
     "languageId": "r"
    }
   },
   "outputs": [
    {
     "data": {
      "image/png": "[encoded data removed]",
      "text/plain": [
       "plot without title"
      ]
     },
     "metadata": {
      "image/png": {
       "height": 420,
       "width": 420
      }
     },
     "output_type": "display_data"
    }
   ],
   "source": [
    "# Visualize Age vs Capital Gain, with untransformed data\n",
    "\n",
    "ggplot(census) +\n",
    "  geom_point(aes(x = age, y = capital.gain)) +\n",
    "  ggtitle(\"Age vs Capital Gain\") +\n",
    "  xlab(\"Age\")"
   ]
  },
  {
   "cell_type": "markdown",
   "metadata": {},
   "source": [
    "# Transformation"
   ]
  },
  {
   "cell_type": "markdown",
   "metadata": {
    "vscode": {
     "languageId": "r"
    }
   },
   "source": [
    "Normalizing"
   ]
  },
  {
   "cell_type": "code",
   "execution_count": 10,
   "metadata": {
    "vscode": {
     "languageId": "r"
    }
   },
   "outputs": [
    {
     "data": {
      "text/html": [
       "<table class=\"dataframe\">\n",
       "<caption>A matrix: 2 × 6 of type dbl</caption>\n",
       "<thead>\n",
       "\t<tr><th scope=col>age</th><th scope=col>fnlwgt</th><th scope=col>education.num</th><th scope=col>capital.gain</th><th scope=col>capital.loss</th><th scope=col>hours.per.week</th></tr>\n",
       "</thead>\n",
       "<tbody>\n",
       "\t<tr><td>0</td><td>0</td><td>0</td><td>0</td><td>0</td><td>0</td></tr>\n",
       "\t<tr><td>1</td><td>1</td><td>1</td><td>1</td><td>1</td><td>1</td></tr>\n",
       "</tbody>\n",
       "</table>\n"
      ],
      "text/latex": [
       "A matrix: 2 × 6 of type dbl\n",
       "\\begin{tabular}{llllll}\n",
       " age & fnlwgt & education.num & capital.gain & capital.loss & hours.per.week\\\\\n",
       "\\hline\n",
       "\t 0 & 0 & 0 & 0 & 0 & 0\\\\\n",
       "\t 1 & 1 & 1 & 1 & 1 & 1\\\\\n",
       "\\end{tabular}\n"
      ],
      "text/markdown": [
       "\n",
       "A matrix: 2 × 6 of type dbl\n",
       "\n",
       "| age | fnlwgt | education.num | capital.gain | capital.loss | hours.per.week |\n",
       "|---|---|---|---|---|---|\n",
       "| 0 | 0 | 0 | 0 | 0 | 0 |\n",
       "| 1 | 1 | 1 | 1 | 1 | 1 |\n",
       "\n"
      ],
      "text/plain": [
       "     age fnlwgt education.num capital.gain capital.loss hours.per.week\n",
       "[1,] 0   0      0             0            0            0             \n",
       "[2,] 1   1      1             1            1            1             "
      ]
     },
     "metadata": {},
     "output_type": "display_data"
    }
   ],
   "source": [
    "# For now, let's just keep the attributes we are going to transform\n",
    "num_census <- census[, num_atts]\n",
    "\n",
    "# 1. Normalizing\n",
    "normalize <- function(x) {\n",
    "  (x - min(x)) / (max(x) - min(x))\n",
    "}\n",
    "census.norm <- as.data.frame(apply(num_census, 2, normalize))\n",
    "\n",
    "# Range of normalized data (should be between 0 and 1)\n",
    "apply(census.norm, 2, range)"
   ]
  },
  {
   "cell_type": "markdown",
   "metadata": {
    "vscode": {
     "languageId": "r"
    }
   },
   "source": [
    "Standardizing\n",
    "\n",
    "Some stats techniques like PCA require us standardize our data (i.e turn the data to be centered around 0, with a mean of 0 and a stdev of 1). We can do this with scale()."
   ]
  },
  {
   "cell_type": "code",
   "execution_count": 13,
   "metadata": {
    "vscode": {
     "languageId": "r"
    }
   },
   "outputs": [
    {
     "data": {
      "text/html": [
       "<style>\n",
       ".dl-inline {width: auto; margin:0; padding: 0}\n",
       ".dl-inline>dt, .dl-inline>dd {float: none; width: auto; display: inline-block}\n",
       ".dl-inline>dt::after {content: \":\\0020\"; padding-right: .5ex}\n",
       ".dl-inline>dt:not(:first-of-type) {padding-left: .5ex}\n",
       "</style><dl class=dl-inline><dt>age</dt><dd>2.71155480659723e-16</dd><dt>fnlwgt</dt><dd>-6.82733778891125e-17</dd><dt>education.num</dt><dd>-2.98013166273587e-16</dd><dt>capital.gain</dt><dd>-4.62312057732197e-18</dd><dt>capital.loss</dt><dd>-7.90997126915507e-18</dd><dt>hours.per.week</dt><dd>4.99120475247442e-17</dd></dl>\n"
      ],
      "text/latex": [
       "\\begin{description*}\n",
       "\\item[age] 2.71155480659723e-16\n",
       "\\item[fnlwgt] -6.82733778891125e-17\n",
       "\\item[education.num] -2.98013166273587e-16\n",
       "\\item[capital.gain] -4.62312057732197e-18\n",
       "\\item[capital.loss] -7.90997126915507e-18\n",
       "\\item[hours.per.week] 4.99120475247442e-17\n",
       "\\end{description*}\n"
      ],
      "text/markdown": [
       "age\n",
       ":   2.71155480659723e-16fnlwgt\n",
       ":   -6.82733778891125e-17education.num\n",
       ":   -2.98013166273587e-16capital.gain\n",
       ":   -4.62312057732197e-18capital.loss\n",
       ":   -7.90997126915507e-18hours.per.week\n",
       ":   4.99120475247442e-17\n",
       "\n"
      ],
      "text/plain": [
       "           age         fnlwgt  education.num   capital.gain   capital.loss \n",
       "  2.711555e-16  -6.827338e-17  -2.980132e-16  -4.623121e-18  -7.909971e-18 \n",
       "hours.per.week \n",
       "  4.991205e-17 "
      ]
     },
     "metadata": {},
     "output_type": "display_data"
    },
    {
     "data": {
      "text/html": [
       "<style>\n",
       ".dl-inline {width: auto; margin:0; padding: 0}\n",
       ".dl-inline>dt, .dl-inline>dd {float: none; width: auto; display: inline-block}\n",
       ".dl-inline>dt::after {content: \":\\0020\"; padding-right: .5ex}\n",
       ".dl-inline>dt:not(:first-of-type) {padding-left: .5ex}\n",
       "</style><dl class=dl-inline><dt>age</dt><dd>1</dd><dt>fnlwgt</dt><dd>1</dd><dt>education.num</dt><dd>1</dd><dt>capital.gain</dt><dd>1</dd><dt>capital.loss</dt><dd>1</dd><dt>hours.per.week</dt><dd>1</dd></dl>\n"
      ],
      "text/latex": [
       "\\begin{description*}\n",
       "\\item[age] 1\n",
       "\\item[fnlwgt] 1\n",
       "\\item[education.num] 1\n",
       "\\item[capital.gain] 1\n",
       "\\item[capital.loss] 1\n",
       "\\item[hours.per.week] 1\n",
       "\\end{description*}\n"
      ],
      "text/markdown": [
       "age\n",
       ":   1fnlwgt\n",
       ":   1education.num\n",
       ":   1capital.gain\n",
       ":   1capital.loss\n",
       ":   1hours.per.week\n",
       ":   1\n",
       "\n"
      ],
      "text/plain": [
       "           age         fnlwgt  education.num   capital.gain   capital.loss \n",
       "             1              1              1              1              1 \n",
       "hours.per.week \n",
       "             1 "
      ]
     },
     "metadata": {},
     "output_type": "display_data"
    },
    {
     "data": {
      "image/png": "[encoded data removed]",
      "text/plain": [
       "plot without title"
      ]
     },
     "metadata": {
      "image/png": {
       "height": 420,
       "width": 420
      }
     },
     "output_type": "display_data"
    }
   ],
   "source": [
    "census.stand <- as.data.frame(scale(num_census))\n",
    "\n",
    "# Take a look at our results\n",
    "apply(census.stand, 2, mean)\n",
    "apply(census.stand, 2, sd)\n",
    "\n",
    "ggplot(census.stand) +\n",
    "  geom_point(aes(x = age, y = capital.gain)) +\n",
    "  ggtitle(\"Age vs Capital Gain\")"
   ]
  },
  {
   "cell_type": "markdown",
   "metadata": {
    "vscode": {
     "languageId": "r"
    }
   },
   "source": [
    "# Joining data"
   ]
  },
  {
   "cell_type": "markdown",
   "metadata": {
    "vscode": {
     "languageId": "r"
    }
   },
   "source": [
    "Dr. Michael has fooled us once again by fabricating the so-called country of \"Spain\" in the video. We'll just the census data from Mexico instead."
   ]
  },
  {
   "cell_type": "code",
   "execution_count": 14,
   "metadata": {
    "vscode": {
     "languageId": "r"
    }
   },
   "outputs": [
    {
     "data": {
      "text/html": [
       "<table class=\"dataframe\">\n",
       "<caption>A data.frame: 6 × 6</caption>\n",
       "<thead>\n",
       "\t<tr><th></th><th scope=col>age</th><th scope=col>fnlwgt</th><th scope=col>education.num</th><th scope=col>capital.gain</th><th scope=col>capital.loss</th><th scope=col>hours.per.week</th></tr>\n",
       "\t<tr><th></th><th scope=col>&lt;int&gt;</th><th scope=col>&lt;int&gt;</th><th scope=col>&lt;int&gt;</th><th scope=col>&lt;int&gt;</th><th scope=col>&lt;int&gt;</th><th scope=col>&lt;int&gt;</th></tr>\n",
       "</thead>\n",
       "<tbody>\n",
       "\t<tr><th scope=row>1</th><td>39</td><td> 77516</td><td>13</td><td>2174</td><td>0</td><td>40</td></tr>\n",
       "\t<tr><th scope=row>2</th><td>50</td><td> 83311</td><td>13</td><td>   0</td><td>0</td><td>13</td></tr>\n",
       "\t<tr><th scope=row>3</th><td>38</td><td>215646</td><td> 9</td><td>   0</td><td>0</td><td>40</td></tr>\n",
       "\t<tr><th scope=row>4</th><td>53</td><td>234721</td><td> 7</td><td>   0</td><td>0</td><td>40</td></tr>\n",
       "\t<tr><th scope=row>5</th><td>37</td><td>284582</td><td>14</td><td>   0</td><td>0</td><td>40</td></tr>\n",
       "\t<tr><th scope=row>6</th><td>52</td><td>209642</td><td> 9</td><td>   0</td><td>0</td><td>45</td></tr>\n",
       "</tbody>\n",
       "</table>\n"
      ],
      "text/latex": [
       "A data.frame: 6 × 6\n",
       "\\begin{tabular}{r|llllll}\n",
       "  & age & fnlwgt & education.num & capital.gain & capital.loss & hours.per.week\\\\\n",
       "  & <int> & <int> & <int> & <int> & <int> & <int>\\\\\n",
       "\\hline\n",
       "\t1 & 39 &  77516 & 13 & 2174 & 0 & 40\\\\\n",
       "\t2 & 50 &  83311 & 13 &    0 & 0 & 13\\\\\n",
       "\t3 & 38 & 215646 &  9 &    0 & 0 & 40\\\\\n",
       "\t4 & 53 & 234721 &  7 &    0 & 0 & 40\\\\\n",
       "\t5 & 37 & 284582 & 14 &    0 & 0 & 40\\\\\n",
       "\t6 & 52 & 209642 &  9 &    0 & 0 & 45\\\\\n",
       "\\end{tabular}\n"
      ],
      "text/markdown": [
       "\n",
       "A data.frame: 6 × 6\n",
       "\n",
       "| <!--/--> | age &lt;int&gt; | fnlwgt &lt;int&gt; | education.num &lt;int&gt; | capital.gain &lt;int&gt; | capital.loss &lt;int&gt; | hours.per.week &lt;int&gt; |\n",
       "|---|---|---|---|---|---|---|\n",
       "| 1 | 39 |  77516 | 13 | 2174 | 0 | 40 |\n",
       "| 2 | 50 |  83311 | 13 |    0 | 0 | 13 |\n",
       "| 3 | 38 | 215646 |  9 |    0 | 0 | 40 |\n",
       "| 4 | 53 | 234721 |  7 |    0 | 0 | 40 |\n",
       "| 5 | 37 | 284582 | 14 |    0 | 0 | 40 |\n",
       "| 6 | 52 | 209642 |  9 |    0 | 0 | 45 |\n",
       "\n"
      ],
      "text/plain": [
       "  age fnlwgt education.num capital.gain capital.loss hours.per.week\n",
       "1 39   77516 13            2174         0            40            \n",
       "2 50   83311 13               0         0            13            \n",
       "3 38  215646  9               0         0            40            \n",
       "4 53  234721  7               0         0            40            \n",
       "5 37  284582 14               0         0            40            \n",
       "6 52  209642  9               0         0            45            "
      ]
     },
     "metadata": {},
     "output_type": "display_data"
    },
    {
     "data": {
      "text/html": [
       "<table class=\"dataframe\">\n",
       "<caption>A data.frame: 6 × 15</caption>\n",
       "<thead>\n",
       "\t<tr><th></th><th scope=col>age</th><th scope=col>workclass</th><th scope=col>fnlwgt</th><th scope=col>education</th><th scope=col>education.num</th><th scope=col>marital.status</th><th scope=col>occupation</th><th scope=col>relationship</th><th scope=col>race</th><th scope=col>sex</th><th scope=col>peso.capital.gain</th><th scope=col>peso.capital.loss</th><th scope=col>hours.per.week</th><th scope=col>native.country</th><th scope=col>makes</th></tr>\n",
       "\t<tr><th></th><th scope=col>&lt;int&gt;</th><th scope=col>&lt;chr&gt;</th><th scope=col>&lt;int&gt;</th><th scope=col>&lt;chr&gt;</th><th scope=col>&lt;int&gt;</th><th scope=col>&lt;chr&gt;</th><th scope=col>&lt;chr&gt;</th><th scope=col>&lt;chr&gt;</th><th scope=col>&lt;chr&gt;</th><th scope=col>&lt;chr&gt;</th><th scope=col>&lt;int&gt;</th><th scope=col>&lt;int&gt;</th><th scope=col>&lt;int&gt;</th><th scope=col>&lt;chr&gt;</th><th scope=col>&lt;chr&gt;</th></tr>\n",
       "</thead>\n",
       "<tbody>\n",
       "\t<tr><th scope=row>1</th><td>34</td><td><span style=white-space:pre-wrap> Private  </span></td><td>245487</td><td><span style=white-space:pre-wrap> 7th-8th     </span></td><td> 4</td><td> Married-civ-spouse</td><td> Transport-moving </td><td><span style=white-space:pre-wrap> Husband  </span></td><td> Amer-Indian-Eskimo</td><td><span style=white-space:pre-wrap> Male  </span></td><td>0</td><td>0</td><td>45</td><td>Mexico</td><td> &lt;=50K</td></tr>\n",
       "\t<tr><th scope=row>2</th><td>46</td><td><span style=white-space:pre-wrap> Private  </span></td><td>216666</td><td><span style=white-space:pre-wrap> 5th-6th     </span></td><td> 3</td><td> Married-civ-spouse</td><td> Machine-op-inspct</td><td><span style=white-space:pre-wrap> Husband  </span></td><td><span style=white-space:pre-wrap> White             </span></td><td><span style=white-space:pre-wrap> Male  </span></td><td>0</td><td>0</td><td>40</td><td>Mexico</td><td> &lt;=50K</td></tr>\n",
       "\t<tr><th scope=row>3</th><td>27</td><td><span style=white-space:pre-wrap> Private  </span></td><td>213921</td><td><span style=white-space:pre-wrap> HS-grad     </span></td><td> 9</td><td><span style=white-space:pre-wrap> Never-married     </span></td><td><span style=white-space:pre-wrap> Other-service    </span></td><td> Own-child</td><td><span style=white-space:pre-wrap> White             </span></td><td><span style=white-space:pre-wrap> Male  </span></td><td>0</td><td>0</td><td>40</td><td>Mexico</td><td> &lt;=50K</td></tr>\n",
       "\t<tr><th scope=row>4</th><td>19</td><td><span style=white-space:pre-wrap> Private  </span></td><td>316868</td><td> Some-college</td><td>10</td><td><span style=white-space:pre-wrap> Never-married     </span></td><td><span style=white-space:pre-wrap> Other-service    </span></td><td> Own-child</td><td><span style=white-space:pre-wrap> White             </span></td><td><span style=white-space:pre-wrap> Male  </span></td><td>0</td><td>0</td><td>30</td><td>Mexico</td><td> &lt;=50K</td></tr>\n",
       "\t<tr><th scope=row>5</th><td>47</td><td> Local-gov</td><td>186009</td><td> Some-college</td><td>10</td><td><span style=white-space:pre-wrap> Divorced          </span></td><td><span style=white-space:pre-wrap> Adm-clerical     </span></td><td> Unmarried</td><td><span style=white-space:pre-wrap> White             </span></td><td> Female</td><td>0</td><td>0</td><td>38</td><td>Mexico</td><td> &lt;=50K</td></tr>\n",
       "\t<tr><th scope=row>6</th><td>36</td><td><span style=white-space:pre-wrap> Private  </span></td><td>207157</td><td> Some-college</td><td>10</td><td><span style=white-space:pre-wrap> Divorced          </span></td><td><span style=white-space:pre-wrap> Other-service    </span></td><td> Unmarried</td><td><span style=white-space:pre-wrap> White             </span></td><td> Female</td><td>0</td><td>0</td><td>40</td><td>Mexico</td><td> &lt;=50K</td></tr>\n",
       "</tbody>\n",
       "</table>\n"
      ],
      "text/latex": [
       "A data.frame: 6 × 15\n",
       "\\begin{tabular}{r|lllllllllllllll}\n",
       "  & age & workclass & fnlwgt & education & education.num & marital.status & occupation & relationship & race & sex & peso.capital.gain & peso.capital.loss & hours.per.week & native.country & makes\\\\\n",
       "  & <int> & <chr> & <int> & <chr> & <int> & <chr> & <chr> & <chr> & <chr> & <chr> & <int> & <int> & <int> & <chr> & <chr>\\\\\n",
       "\\hline\n",
       "\t1 & 34 &  Private   & 245487 &  7th-8th      &  4 &  Married-civ-spouse &  Transport-moving  &  Husband   &  Amer-Indian-Eskimo &  Male   & 0 & 0 & 45 & Mexico &  <=50K\\\\\n",
       "\t2 & 46 &  Private   & 216666 &  5th-6th      &  3 &  Married-civ-spouse &  Machine-op-inspct &  Husband   &  White              &  Male   & 0 & 0 & 40 & Mexico &  <=50K\\\\\n",
       "\t3 & 27 &  Private   & 213921 &  HS-grad      &  9 &  Never-married      &  Other-service     &  Own-child &  White              &  Male   & 0 & 0 & 40 & Mexico &  <=50K\\\\\n",
       "\t4 & 19 &  Private   & 316868 &  Some-college & 10 &  Never-married      &  Other-service     &  Own-child &  White              &  Male   & 0 & 0 & 30 & Mexico &  <=50K\\\\\n",
       "\t5 & 47 &  Local-gov & 186009 &  Some-college & 10 &  Divorced           &  Adm-clerical      &  Unmarried &  White              &  Female & 0 & 0 & 38 & Mexico &  <=50K\\\\\n",
       "\t6 & 36 &  Private   & 207157 &  Some-college & 10 &  Divorced           &  Other-service     &  Unmarried &  White              &  Female & 0 & 0 & 40 & Mexico &  <=50K\\\\\n",
       "\\end{tabular}\n"
      ],
      "text/markdown": [
       "\n",
       "A data.frame: 6 × 15\n",
       "\n",
       "| <!--/--> | age &lt;int&gt; | workclass &lt;chr&gt; | fnlwgt &lt;int&gt; | education &lt;chr&gt; | education.num &lt;int&gt; | marital.status &lt;chr&gt; | occupation &lt;chr&gt; | relationship &lt;chr&gt; | race &lt;chr&gt; | sex &lt;chr&gt; | peso.capital.gain &lt;int&gt; | peso.capital.loss &lt;int&gt; | hours.per.week &lt;int&gt; | native.country &lt;chr&gt; | makes &lt;chr&gt; |\n",
       "|---|---|---|---|---|---|---|---|---|---|---|---|---|---|---|---|\n",
       "| 1 | 34 |  Private   | 245487 |  7th-8th      |  4 |  Married-civ-spouse |  Transport-moving  |  Husband   |  Amer-Indian-Eskimo |  Male   | 0 | 0 | 45 | Mexico |  &lt;=50K |\n",
       "| 2 | 46 |  Private   | 216666 |  5th-6th      |  3 |  Married-civ-spouse |  Machine-op-inspct |  Husband   |  White              |  Male   | 0 | 0 | 40 | Mexico |  &lt;=50K |\n",
       "| 3 | 27 |  Private   | 213921 |  HS-grad      |  9 |  Never-married      |  Other-service     |  Own-child |  White              |  Male   | 0 | 0 | 40 | Mexico |  &lt;=50K |\n",
       "| 4 | 19 |  Private   | 316868 |  Some-college | 10 |  Never-married      |  Other-service     |  Own-child |  White              |  Male   | 0 | 0 | 30 | Mexico |  &lt;=50K |\n",
       "| 5 | 47 |  Local-gov | 186009 |  Some-college | 10 |  Divorced           |  Adm-clerical      |  Unmarried |  White              |  Female | 0 | 0 | 38 | Mexico |  &lt;=50K |\n",
       "| 6 | 36 |  Private   | 207157 |  Some-college | 10 |  Divorced           |  Other-service     |  Unmarried |  White              |  Female | 0 | 0 | 40 | Mexico |  &lt;=50K |\n",
       "\n"
      ],
      "text/plain": [
       "  age workclass  fnlwgt education     education.num marital.status     \n",
       "1 34   Private   245487  7th-8th       4             Married-civ-spouse\n",
       "2 46   Private   216666  5th-6th       3             Married-civ-spouse\n",
       "3 27   Private   213921  HS-grad       9             Never-married     \n",
       "4 19   Private   316868  Some-college 10             Never-married     \n",
       "5 47   Local-gov 186009  Some-college 10             Divorced          \n",
       "6 36   Private   207157  Some-college 10             Divorced          \n",
       "  occupation         relationship race                sex     peso.capital.gain\n",
       "1  Transport-moving   Husband      Amer-Indian-Eskimo  Male   0                \n",
       "2  Machine-op-inspct  Husband      White               Male   0                \n",
       "3  Other-service      Own-child    White               Male   0                \n",
       "4  Other-service      Own-child    White               Male   0                \n",
       "5  Adm-clerical       Unmarried    White               Female 0                \n",
       "6  Other-service      Unmarried    White               Female 0                \n",
       "  peso.capital.loss hours.per.week native.country makes \n",
       "1 0                 45             Mexico          <=50K\n",
       "2 0                 40             Mexico          <=50K\n",
       "3 0                 40             Mexico          <=50K\n",
       "4 0                 30             Mexico          <=50K\n",
       "5 0                 38             Mexico          <=50K\n",
       "6 0                 40             Mexico          <=50K"
      ]
     },
     "metadata": {},
     "output_type": "display_data"
    }
   ],
   "source": [
    "mexico <- read.csv(\"census_mexico.csv\")\n",
    "\n",
    "# To combine them, first ensure that units are the same and distributions are similar\n",
    "\n",
    "head(num_census)\n",
    "head(mexico)\n",
    "\n",
    "mexico$capital.gain <- mexico$peso.capital.gain * 3.11  # Exchange rate on the year of collection (1994)\n",
    "mexico$capital.loss <- mexico$peso.capital.loss * 3.11\n",
    "\n",
    "# Let's keep the attributes that we need from each, concatenate them and study their distribution\n",
    "\n",
    "num_census <- cbind(census[,num_atts], native.country=census$native.country)\n",
    "num_mexico <- cbind(mexico[,num_atts], native.country=mexico$native.country)\n",
    "\n",
    "united <- rbind(num_census, num_mexico)"
   ]
  },
  {
   "cell_type": "markdown",
   "metadata": {},
   "source": [
    "# Visualizing joined data"
   ]
  },
  {
   "cell_type": "markdown",
   "metadata": {
    "vscode": {
     "languageId": "r"
    }
   },
   "source": [
    "Let's plot a bar chart that counts values to see if our new dataset is proper.\n",
    "\n",
    "A few values outside of the standard range, but it's mostly okay. Can be a judgement call, depending on the data."
   ]
  },
  {
   "cell_type": "code",
   "execution_count": 15,
   "metadata": {
    "vscode": {
     "languageId": "r"
    }
   },
   "outputs": [
    {
     "data": {
      "image/png": "[encoded data removed]",
      "text/plain": [
       "plot without title"
      ]
     },
     "metadata": {
      "image/png": {
       "height": 420,
       "width": 420
      }
     },
     "output_type": "display_data"
    }
   ],
   "source": [
    "ggplot() + \n",
    "  geom_histogram(data = united, bins = 10, aes(x = capital.gain, fill = native.country)) +\n",
    "  scale_fill_discrete(name = \"Country\") +\n",
    "  ggtitle(\"Histogram of Capital Gain by Country\")"
   ]
  },
  {
   "cell_type": "markdown",
   "metadata": {
    "vscode": {
     "languageId": "r"
    }
   },
   "source": [
    "Now with capital loss"
   ]
  },
  {
   "cell_type": "code",
   "execution_count": 16,
   "metadata": {
    "vscode": {
     "languageId": "r"
    }
   },
   "outputs": [
    {
     "data": {
      "image/png": "[encoded data removed]",
      "text/plain": [
       "plot without title"
      ]
     },
     "metadata": {
      "image/png": {
       "height": 420,
       "width": 420
      }
     },
     "output_type": "display_data"
    }
   ],
   "source": [
    "ggplot() +\n",
    "  geom_histogram(data = united, bins = 10, aes(x = capital.loss, fill = native.country)) +\n",
    "  scale_fill_discrete(name = \"Country\") +\n",
    "  ggtitle(\"Histogram of Capital Loss by Country\")"
   ]
  },
  {
   "cell_type": "markdown",
   "metadata": {
    "vscode": {
     "languageId": "r"
    }
   },
   "source": [
    "Finally, let's take a look at ages. The distributions look about the same: a somewhat right-skewed bell curve."
   ]
  },
  {
   "cell_type": "code",
   "execution_count": 17,
   "metadata": {
    "vscode": {
     "languageId": "r"
    }
   },
   "outputs": [
    {
     "data": {
      "image/png": "[encoded data removed]",
      "text/plain": [
       "plot without title"
      ]
     },
     "metadata": {
      "image/png": {
       "height": 420,
       "width": 420
      }
     },
     "output_type": "display_data"
    }
   ],
   "source": [
    "ggplot() +\n",
    "  geom_histogram(data = united, bins = 10, aes(x = age, fill = native.country)) +\n",
    "  scale_fill_discrete(name = \"Country\") +\n",
    "  ggtitle(\"Histogram of Age by Country\")"
   ]
  }
 ],
 "metadata": {
  "kernelspec": {
   "display_name": "R",
   "language": "R",
   "name": "ir"
  },
  "language_info": {
   "codemirror_mode": "r",
   "file_extension": ".r",
   "mimetype": "text/x-r-source",
   "name": "R",
   "pygments_lexer": "r",
   "version": "4.3.2"
  }
 },
 "nbformat": 4,
 "nbformat_minor": 2
}
