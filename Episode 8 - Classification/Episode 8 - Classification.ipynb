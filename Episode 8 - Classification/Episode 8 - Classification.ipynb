{
 "cells": [
  {
   "cell_type": "markdown",
   "metadata": {},
   "source": [
    "Dr. Mike uses Weka in this episode, but we want to code. Thankfully we have a library specifically for that situation: RWeka."
   ]
  },
  {
   "cell_type": "code",
   "execution_count": 4,
   "metadata": {
    "vscode": {
     "languageId": "r"
    }
   },
   "outputs": [],
   "source": [
    "install.packages(\"RWeka\")\n",
    "library(RWeka)"
   ]
  },
  {
   "cell_type": "markdown",
   "metadata": {
    "vscode": {
     "languageId": "r"
    }
   },
   "source": [
    "When you need outputs that are categorical or are based on a small amount of labels you Classify.\n"
   ]
  },
  {
   "cell_type": "markdown",
   "metadata": {
    "vscode": {
     "languageId": "r"
    }
   },
   "source": [
    "# Decision Trees\n",
    "Decision trees will base their outputs on conditions generated on a structure with decision nodes, branches and leaf nodes."
   ]
  },
  {
   "cell_type": "code",
   "execution_count": 5,
   "metadata": {
    "vscode": {
     "languageId": "r"
    }
   },
   "outputs": [
    {
     "data": {
      "text/plain": [
       "Confusion Matrix and Statistics\n",
       "\n",
       "          Reference\n",
       "Prediction  -  +\n",
       "         - 85  4\n",
       "         + 29 88\n",
       "                                          \n",
       "               Accuracy : 0.8398          \n",
       "                 95% CI : (0.7824, 0.8871)\n",
       "    No Information Rate : 0.5534          \n",
       "    P-Value [Acc > NIR] : < 2.2e-16       \n",
       "                                          \n",
       "                  Kappa : 0.6842          \n",
       "                                          \n",
       " Mcnemar's Test P-Value : 2.943e-05       \n",
       "                                          \n",
       "            Sensitivity : 0.7456          \n",
       "            Specificity : 0.9565          \n",
       "         Pos Pred Value : 0.9551          \n",
       "         Neg Pred Value : 0.7521          \n",
       "             Prevalence : 0.5534          \n",
       "         Detection Rate : 0.4126          \n",
       "   Detection Prevalence : 0.4320          \n",
       "      Balanced Accuracy : 0.8511          \n",
       "                                          \n",
       "       'Positive' Class : -               \n",
       "                                          "
      ]
     },
     "metadata": {},
     "output_type": "display_data"
    }
   ],
   "source": [
    "install.packages(\"caret\")\n",
    "install.packages(\"data.table\")\n",
    "library(caret)\n",
    "library(data.table)\n",
    "\n",
    "# Pound seems to have gotten hand of the unmasked, headed version of the dataset. That one's not available for us, but it works the same\n",
    "# Last column in the .data file will show a \"+\" for Approved and \"-\" for Not Approved\n",
    "\n",
    "credit_data <- fread(\"crx.data\", header = FALSE)\n",
    "\n",
    "# Assign column names\n",
    "colnames(credit_data) <- c(\"A1\", \"A2\", \"A3\", \"A4\", \"A5\", \"A6\", \"A7\", \"A8\", \"A9\", \"A10\", \"A11\", \"A12\", \"A13\", \"A14\", \"A15\", \"Class\")\n",
    "\n",
    "# Convert string attributes to factors (categorical data)\n",
    "credit_data[] <- lapply(credit_data, function(x) if (is.character(x)) as.factor(x) else x)\n",
    "\n",
    "# Split the data into training and testing sets\n",
    "set.seed(123)\n",
    "trainIndex <- createDataPartition(credit_data$Class, p = 0.70, list = FALSE)\n",
    "trainData <- credit_data[trainIndex, ]\n",
    "testData <- credit_data[-trainIndex, ]\n",
    "\n",
    "# We'll pick the J48 decision tree for our model\n",
    "model <- J48(Class ~ ., data = trainData)\n",
    "\n",
    "# Predict on the test set\n",
    "predictions <- predict(model, newdata = testData)\n",
    "\n",
    "# Generate the confusion matrix, along with other results.\n",
    "confusionMatrix(predictions, testData$Class)"
   ]
  },
  {
   "cell_type": "markdown",
   "metadata": {
    "vscode": {
     "languageId": "r"
    }
   },
   "source": [
    "# K-NN \n",
    "K-Nearest Neighbours' approach is something like \"what, in the existing dataset, have we already seen around this area?\". It iteratively works with a selected number (K) of nearest neighbours of data points and calculates the average, or majority vote, of these neighbours' given labels."
   ]
  },
  {
   "cell_type": "code",
   "execution_count": 6,
   "metadata": {
    "vscode": {
     "languageId": "r"
    }
   },
   "outputs": [
    {
     "data": {
      "text/plain": [
       "Confusion Matrix and Statistics\n",
       "\n",
       "          Reference\n",
       "Prediction   -   +\n",
       "         - 101  13\n",
       "         +  13  79\n",
       "                                          \n",
       "               Accuracy : 0.8738          \n",
       "                 95% CI : (0.8206, 0.9159)\n",
       "    No Information Rate : 0.5534          \n",
       "    P-Value [Acc > NIR] : <2e-16          \n",
       "                                          \n",
       "                  Kappa : 0.7447          \n",
       "                                          \n",
       " Mcnemar's Test P-Value : 1               \n",
       "                                          \n",
       "            Sensitivity : 0.8860          \n",
       "            Specificity : 0.8587          \n",
       "         Pos Pred Value : 0.8860          \n",
       "         Neg Pred Value : 0.8587          \n",
       "             Prevalence : 0.5534          \n",
       "         Detection Rate : 0.4903          \n",
       "   Detection Prevalence : 0.5534          \n",
       "      Balanced Accuracy : 0.8723          \n",
       "                                          \n",
       "       'Positive' Class : -               \n",
       "                                          "
      ]
     },
     "metadata": {},
     "output_type": "display_data"
    }
   ],
   "source": [
    "model <- IBk(Class ~ ., data = trainData, control = Weka_control(K = 5)) # Let's pick 5 for our K-number\n",
    "\n",
    "predictions <- predict(model, newdata = testData)\n",
    "\n",
    "confusionMatrix(predictions, testData$Class)"
   ]
  },
  {
   "cell_type": "markdown",
   "metadata": {
    "vscode": {
     "languageId": "r"
    }
   },
   "source": [
    "# SVMs\n",
    "Support Vector Machines maximize the separation between classes when drawing the decision boundary. It's good for non-linear data as well."
   ]
  },
  {
   "cell_type": "code",
   "execution_count": 7,
   "metadata": {
    "vscode": {
     "languageId": "r"
    }
   },
   "outputs": [
    {
     "data": {
      "text/plain": [
       "Confusion Matrix and Statistics\n",
       "\n",
       "          Reference\n",
       "Prediction  -  +\n",
       "         - 93 10\n",
       "         + 21 82\n",
       "                                          \n",
       "               Accuracy : 0.8495          \n",
       "                 95% CI : (0.7932, 0.8954)\n",
       "    No Information Rate : 0.5534          \n",
       "    P-Value [Acc > NIR] : < 2e-16         \n",
       "                                          \n",
       "                  Kappa : 0.699           \n",
       "                                          \n",
       " Mcnemar's Test P-Value : 0.07249         \n",
       "                                          \n",
       "            Sensitivity : 0.8158          \n",
       "            Specificity : 0.8913          \n",
       "         Pos Pred Value : 0.9029          \n",
       "         Neg Pred Value : 0.7961          \n",
       "             Prevalence : 0.5534          \n",
       "         Detection Rate : 0.4515          \n",
       "   Detection Prevalence : 0.5000          \n",
       "      Balanced Accuracy : 0.8535          \n",
       "                                          \n",
       "       'Positive' Class : -               \n",
       "                                          "
      ]
     },
     "metadata": {},
     "output_type": "display_data"
    }
   ],
   "source": [
    "model <- SMO(Class ~ ., data = trainData)\n",
    "\n",
    "predictions <- predict(model, newdata = testData)\n",
    "\n",
    "confusionMatrix(predictions, testData$Class)"
   ]
  }
 ],
 "metadata": {
  "kernelspec": {
   "display_name": "R",
   "language": "R",
   "name": "ir"
  },
  "language_info": {
   "codemirror_mode": "r",
   "file_extension": ".r",
   "mimetype": "text/x-r-source",
   "name": "R",
   "pygments_lexer": "r",
   "version": "4.3.2"
  }
 },
 "nbformat": 4,
 "nbformat_minor": 2
}
